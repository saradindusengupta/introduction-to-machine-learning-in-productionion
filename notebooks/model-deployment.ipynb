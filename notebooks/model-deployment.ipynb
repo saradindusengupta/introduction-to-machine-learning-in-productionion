{
 "cells": [
  {
   "cell_type": "code",
   "execution_count": null,
   "metadata": {},
   "outputs": [],
   "source": []
  }
 ],
 "metadata": {
  "kernelspec": {
   "display_name": "Python 3.8.13 ('coursera-mlops')",
   "language": "python",
   "name": "python3"
  },
  "language_info": {
   "name": "python",
   "version": "3.8.13"
  },
  "orig_nbformat": 4,
  "vscode": {
   "interpreter": {
    "hash": "3a2f05eefd67dc501a24e5a0a090bdb4dac7d1b45f34207227bcf6a1de8fe967"
   }
  }
 },
 "nbformat": 4,
 "nbformat_minor": 2
}
